{
 "cells": [
  {
   "cell_type": "code",
   "execution_count": 27,
   "id": "7cde18cb",
   "metadata": {},
   "outputs": [],
   "source": [
    "import pandas as pd\n",
    "import numpy as np\n",
    "from sklearn.preprocessing import LabelEncoder, MinMaxScaler\n",
    "from sklearn.model_selection import train_test_split\n",
    "import tensorflow as tf\n",
    "from tensorflow.keras.models import Sequential\n",
    "from tensorflow.keras.layers import Dense\n",
    "from tensorflow.keras.callbacks import EarlyStopping, ModelCheckpoint"
   ]
  },
  {
   "cell_type": "code",
   "execution_count": 22,
   "id": "d574db3a",
   "metadata": {},
   "outputs": [],
   "source": [
    "# Load dataset\n",
    "data_df = pd.read_excel('./open_tender_history.xlsx')\n",
    "\n",
    "# Create the project dataset\n",
    "df = data_df[['Kategori', 'Sumber Dana', 'Nama KLPD', 'LPSE', 'Satker', 'HPS', 'PAGU', 'Kontrak', 'Skor Total', 'Nama Pemenang']].drop_duplicates()"
   ]
  },
  {
   "cell_type": "code",
   "execution_count": 23,
   "id": "48f64467",
   "metadata": {},
   "outputs": [
    {
     "data": {
      "text/html": [
       "<div>\n",
       "<style scoped>\n",
       "    .dataframe tbody tr th:only-of-type {\n",
       "        vertical-align: middle;\n",
       "    }\n",
       "\n",
       "    .dataframe tbody tr th {\n",
       "        vertical-align: top;\n",
       "    }\n",
       "\n",
       "    .dataframe thead th {\n",
       "        text-align: right;\n",
       "    }\n",
       "</style>\n",
       "<table border=\"1\" class=\"dataframe\">\n",
       "  <thead>\n",
       "    <tr style=\"text-align: right;\">\n",
       "      <th></th>\n",
       "      <th>Kategori</th>\n",
       "      <th>Sumber Dana</th>\n",
       "      <th>Nama KLPD</th>\n",
       "      <th>LPSE</th>\n",
       "      <th>Satker</th>\n",
       "      <th>HPS</th>\n",
       "      <th>PAGU</th>\n",
       "      <th>Kontrak</th>\n",
       "      <th>Skor Total</th>\n",
       "      <th>Nama Pemenang</th>\n",
       "    </tr>\n",
       "  </thead>\n",
       "  <tbody>\n",
       "    <tr>\n",
       "      <th>0</th>\n",
       "      <td>Pengadaan Barang</td>\n",
       "      <td>APBN</td>\n",
       "      <td>Kementerian Pertanian</td>\n",
       "      <td>LPSE Kementerian Pertanian</td>\n",
       "      <td>BALAI BESAR UJI STANDAR KARANTINA PERTANIAN</td>\n",
       "      <td>1.721075e+09</td>\n",
       "      <td>1.750000e+09</td>\n",
       "      <td>1.551181e+09</td>\n",
       "      <td>50.00</td>\n",
       "      <td>-</td>\n",
       "    </tr>\n",
       "    <tr>\n",
       "      <th>1</th>\n",
       "      <td>Jasa Lainnya</td>\n",
       "      <td>APBN</td>\n",
       "      <td>Kementerian Desa Pembangunan Daerah Tertinggal...</td>\n",
       "      <td>LPSE Kementerian Desa, Pembangunan Daerah Tert...</td>\n",
       "      <td>SEKRETARIAT JENDERAL KEMENTERIAN DESA PDT DAN ...</td>\n",
       "      <td>1.210000e+09</td>\n",
       "      <td>1.210000e+09</td>\n",
       "      <td>1.207580e+09</td>\n",
       "      <td>60.71</td>\n",
       "      <td>-</td>\n",
       "    </tr>\n",
       "    <tr>\n",
       "      <th>2</th>\n",
       "      <td>Jasa Konsultansi Badan Usaha Non Konstruksi</td>\n",
       "      <td>APBN</td>\n",
       "      <td>Kementerian Perhubungan</td>\n",
       "      <td>LPSE Kementerian Perhubungan</td>\n",
       "      <td>BANDAR UDARA REMBELE  TAKENGON</td>\n",
       "      <td>1.272150e+08</td>\n",
       "      <td>1.272560e+08</td>\n",
       "      <td>1.230000e+08</td>\n",
       "      <td>32.14</td>\n",
       "      <td>3D STATION CONSULTANT</td>\n",
       "    </tr>\n",
       "    <tr>\n",
       "      <th>3</th>\n",
       "      <td>Jasa Konsultansi Badan Usaha Non Konstruksi</td>\n",
       "      <td>APBN</td>\n",
       "      <td>Kementerian Komunikasi Dan Informatika</td>\n",
       "      <td>LPSE Kementerian Komunikasi dan Informatika</td>\n",
       "      <td>DIREKTORAT JENDERAL APLIKASI INFORMATIKA</td>\n",
       "      <td>9.554658e+09</td>\n",
       "      <td>9.900000e+09</td>\n",
       "      <td>9.331282e+09</td>\n",
       "      <td>NaN</td>\n",
       "      <td>A.T. Kearney</td>\n",
       "    </tr>\n",
       "    <tr>\n",
       "      <th>4</th>\n",
       "      <td>Jasa Konsultansi Badan Usaha Non Konstruksi</td>\n",
       "      <td>APBN</td>\n",
       "      <td>Kementerian Komunikasi Dan Informatika</td>\n",
       "      <td>LPSE Kementerian Komunikasi dan Informatika</td>\n",
       "      <td>SEKRETARIAT JENDERAL KOMINFO</td>\n",
       "      <td>9.934500e+09</td>\n",
       "      <td>1.000000e+10</td>\n",
       "      <td>9.657000e+09</td>\n",
       "      <td>NaN</td>\n",
       "      <td>A.T. Kearney</td>\n",
       "    </tr>\n",
       "  </tbody>\n",
       "</table>\n",
       "</div>"
      ],
      "text/plain": [
       "                                      Kategori Sumber Dana  \\\n",
       "0                             Pengadaan Barang        APBN   \n",
       "1                                 Jasa Lainnya        APBN   \n",
       "2  Jasa Konsultansi Badan Usaha Non Konstruksi        APBN   \n",
       "3  Jasa Konsultansi Badan Usaha Non Konstruksi        APBN   \n",
       "4  Jasa Konsultansi Badan Usaha Non Konstruksi        APBN   \n",
       "\n",
       "                                           Nama KLPD  \\\n",
       "0                              Kementerian Pertanian   \n",
       "1  Kementerian Desa Pembangunan Daerah Tertinggal...   \n",
       "2                            Kementerian Perhubungan   \n",
       "3             Kementerian Komunikasi Dan Informatika   \n",
       "4             Kementerian Komunikasi Dan Informatika   \n",
       "\n",
       "                                                LPSE  \\\n",
       "0                         LPSE Kementerian Pertanian   \n",
       "1  LPSE Kementerian Desa, Pembangunan Daerah Tert...   \n",
       "2                       LPSE Kementerian Perhubungan   \n",
       "3        LPSE Kementerian Komunikasi dan Informatika   \n",
       "4        LPSE Kementerian Komunikasi dan Informatika   \n",
       "\n",
       "                                              Satker           HPS  \\\n",
       "0        BALAI BESAR UJI STANDAR KARANTINA PERTANIAN  1.721075e+09   \n",
       "1  SEKRETARIAT JENDERAL KEMENTERIAN DESA PDT DAN ...  1.210000e+09   \n",
       "2                     BANDAR UDARA REMBELE  TAKENGON  1.272150e+08   \n",
       "3           DIREKTORAT JENDERAL APLIKASI INFORMATIKA  9.554658e+09   \n",
       "4                       SEKRETARIAT JENDERAL KOMINFO  9.934500e+09   \n",
       "\n",
       "           PAGU       Kontrak  Skor Total          Nama Pemenang  \n",
       "0  1.750000e+09  1.551181e+09       50.00                      -  \n",
       "1  1.210000e+09  1.207580e+09       60.71                      -  \n",
       "2  1.272560e+08  1.230000e+08       32.14  3D STATION CONSULTANT  \n",
       "3  9.900000e+09  9.331282e+09         NaN           A.T. Kearney  \n",
       "4  1.000000e+10  9.657000e+09         NaN           A.T. Kearney  "
      ]
     },
     "execution_count": 23,
     "metadata": {},
     "output_type": "execute_result"
    }
   ],
   "source": [
    "df.head(5)"
   ]
  },
  {
   "cell_type": "markdown",
   "id": "f4ec9f4b",
   "metadata": {},
   "source": [
    "### Data Preparation"
   ]
  },
  {
   "cell_type": "code",
   "execution_count": 24,
   "id": "a8504da9",
   "metadata": {},
   "outputs": [
    {
     "name": "stderr",
     "output_type": "stream",
     "text": [
      "C:\\Users\\LENOVO\\tf220\\lib\\site-packages\\ipykernel_launcher.py:3: DeprecationWarning: Converting `np.inexact` or `np.floating` to a dtype is deprecated. The current result is `float64` which is not strictly correct.\n",
      "  This is separate from the ipykernel package so we can avoid doing imports until\n",
      "C:\\Users\\LENOVO\\tf220\\lib\\site-packages\\ipykernel_launcher.py:3: DeprecationWarning: Converting `np.inexact` or `np.floating` to a dtype is deprecated. The current result is `float64` which is not strictly correct.\n",
      "  This is separate from the ipykernel package so we can avoid doing imports until\n",
      "C:\\Users\\LENOVO\\tf220\\lib\\site-packages\\ipykernel_launcher.py:3: DeprecationWarning: Converting `np.inexact` or `np.floating` to a dtype is deprecated. The current result is `float64` which is not strictly correct.\n",
      "  This is separate from the ipykernel package so we can avoid doing imports until\n",
      "C:\\Users\\LENOVO\\tf220\\lib\\site-packages\\ipykernel_launcher.py:3: DeprecationWarning: Converting `np.inexact` or `np.floating` to a dtype is deprecated. The current result is `float64` which is not strictly correct.\n",
      "  This is separate from the ipykernel package so we can avoid doing imports until\n",
      "C:\\Users\\LENOVO\\tf220\\lib\\site-packages\\ipykernel_launcher.py:3: DeprecationWarning: Converting `np.inexact` or `np.floating` to a dtype is deprecated. The current result is `float64` which is not strictly correct.\n",
      "  This is separate from the ipykernel package so we can avoid doing imports until\n"
     ]
    }
   ],
   "source": [
    "# Handle missing values\n",
    "for column in df.columns:\n",
    "    if df[column].dtype == np.number:\n",
    "        df[column] = df[column].fillna(df[column].median())\n",
    "    else:\n",
    "        df[column] = df[column].fillna(df[column].mode()[0])\n",
    "\n",
    "# Label encoding for categorical variables\n",
    "le = LabelEncoder()\n",
    "categorical_columns = ['Kategori', 'Sumber Dana', 'Satker', 'Nama KLPD', \n",
    "                       'Nama Pemenang', 'LPSE', ]\n",
    "\n",
    "label_encoders = {}\n",
    "for column in categorical_columns:\n",
    "    label_encoders[column] = LabelEncoder()\n",
    "    df[column] = label_encoders[column].fit_transform(df[column])\n",
    "    \n",
    "# Split the dataset\n",
    "X = df.drop('Nama Pemenang', axis=1)\n",
    "y = df['Nama Pemenang']\n",
    "X_train, X_test, y_train, y_test = train_test_split(X, y, test_size=0.2, random_state=42)\n",
    "\n",
    "# Normalize numeric columns\n",
    "scaler = MinMaxScaler()\n",
    "numeric_columns = ['HPS', 'PAGU', 'Kontrak']\n",
    "X_train[numeric_columns] = scaler.fit_transform(X_train[numeric_columns])\n",
    "X_test[numeric_columns] = scaler.transform(X_test[numeric_columns])"
   ]
  },
  {
   "cell_type": "code",
   "execution_count": 25,
   "id": "0eb3a802",
   "metadata": {},
   "outputs": [
    {
     "name": "stdout",
     "output_type": "stream",
     "text": [
      "Kategori         int32\n",
      "Sumber Dana      int32\n",
      "Nama KLPD        int32\n",
      "LPSE             int32\n",
      "Satker           int32\n",
      "HPS            float64\n",
      "PAGU           float64\n",
      "Kontrak        float64\n",
      "Skor Total     float64\n",
      "dtype: object\n"
     ]
    }
   ],
   "source": [
    "print(X_train.dtypes)"
   ]
  },
  {
   "cell_type": "markdown",
   "id": "7f7e01c2",
   "metadata": {},
   "source": [
    "### Model Training"
   ]
  },
  {
   "cell_type": "code",
   "execution_count": null,
   "id": "c9ebddda",
   "metadata": {},
   "outputs": [
    {
     "name": "stdout",
     "output_type": "stream",
     "text": [
      "Epoch 1/100\n",
      "3024/3024 [==============================] - 210s 70ms/step - loss: 13.4701 - accuracy: 0.0126 - val_loss: 10.2031 - val_accuracy: 0.0180\n",
      "Epoch 2/100\n",
      "3024/3024 [==============================] - 207s 68ms/step - loss: 10.1462 - accuracy: 0.0171 - val_loss: 10.1836 - val_accuracy: 0.0184\n",
      "Epoch 3/100\n",
      "3024/3024 [==============================] - 197s 65ms/step - loss: 10.0836 - accuracy: 0.0175 - val_loss: 10.1812 - val_accuracy: 0.0183\n",
      "Epoch 4/100\n",
      "3024/3024 [==============================] - 196s 65ms/step - loss: 10.0311 - accuracy: 0.0177 - val_loss: 10.1825 - val_accuracy: 0.0184\n",
      "Epoch 5/100\n",
      "3024/3024 [==============================] - 203s 67ms/step - loss: 9.9893 - accuracy: 0.0177 - val_loss: 10.1947 - val_accuracy: 0.0184\n",
      "Epoch 6/100\n",
      "3024/3024 [==============================] - 201s 66ms/step - loss: 9.9497 - accuracy: 0.0177 - val_loss: 10.2022 - val_accuracy: 0.0184\n",
      "Epoch 7/100\n",
      "3024/3024 [==============================] - 199s 66ms/step - loss: 9.9158 - accuracy: 0.0178 - val_loss: 10.2111 - val_accuracy: 0.0187\n",
      "Epoch 8/100\n",
      "2299/3024 [=====================>........] - ETA: 43s - loss: 9.8869 - accuracy: 0.0178"
     ]
    }
   ],
   "source": [
    "# Define the model architecture\n",
    "model = tf.keras.models.Sequential([\n",
    "    tf.keras.layers.Dense(128, activation='relu', input_shape=[X_train.shape[1]]),\n",
    "    tf.keras.layers.Dense(256, activation='relu'),\n",
    "    tf.keras.layers.Dense(128, activation='relu'),\n",
    "    tf.keras.layers.Dense(len(df['Nama Pemenang'].unique()), activation='softmax')  # number of classes (i.e., unique vendors)\n",
    "])\n",
    "\n",
    "# Compile the model with a different optimizer and learning rate\n",
    "model.compile(optimizer=tf.keras.optimizers.Adam(learning_rate=0.001), loss='sparse_categorical_crossentropy', metrics=['accuracy'])\n",
    "\n",
    "# Early stopping and model checkpointing\n",
    "early_stopping = EarlyStopping(monitor='val_loss', patience=10)\n",
    "model_checkpoint = ModelCheckpoint('best_model.h5', monitor='val_loss', save_best_only=True)\n",
    "\n",
    "# Train the model\n",
    "history = model.fit(X_train, y_train, \n",
    "                    epochs=15, \n",
    "                    validation_data=(X_test, y_test), \n",
    "                    callbacks=[early_stopping, model_checkpoint])\n"
   ]
  },
  {
   "cell_type": "code",
   "execution_count": null,
   "id": "8d3e3ba8",
   "metadata": {},
   "outputs": [],
   "source": []
  }
 ],
 "metadata": {
  "kernelspec": {
   "display_name": "tf220",
   "language": "python",
   "name": "tf220"
  },
  "language_info": {
   "codemirror_mode": {
    "name": "ipython",
    "version": 3
   },
   "file_extension": ".py",
   "mimetype": "text/x-python",
   "name": "python",
   "nbconvert_exporter": "python",
   "pygments_lexer": "ipython3",
   "version": "3.7.1"
  }
 },
 "nbformat": 4,
 "nbformat_minor": 5
}
