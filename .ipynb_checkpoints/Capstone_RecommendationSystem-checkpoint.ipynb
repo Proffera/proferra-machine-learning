{
 "cells": [
  {
   "cell_type": "code",
   "execution_count": null,
   "id": "7cde18cb",
   "metadata": {},
   "outputs": [],
   "source": [
    "import pandas as pd\n",
    "import numpy as np\n",
    "from sklearn.preprocessing import LabelEncoder, MinMaxScaler\n",
    "from sklearn.model_selection import train_test_split\n",
    "import tensorflow as tf\n",
    "from tensorflow.keras.models import Sequential\n",
    "from tensorflow.keras.layers import Dense\n",
    "from tensorflow.keras.callbacks import EarlyStopping, ModelCheckpoint"
   ]
  },
  {
   "cell_type": "code",
   "execution_count": null,
   "id": "d574db3a",
   "metadata": {},
   "outputs": [],
   "source": [
    "# Load dataset\n",
    "data_df = pd.read_excel('./open_tender_history.xlsx')\n",
    "\n",
    "# Create the project dataset\n",
    "df = data_df[['Kategori', 'Sumber Dana', 'Nama KLPD', 'LPSE', 'Satker', 'HPS', 'PAGU', 'Kontrak', 'Skor Total', 'Nama Pemenang']].drop_duplicates()"
   ]
  },
  {
   "cell_type": "code",
   "execution_count": null,
   "id": "48f64467",
   "metadata": {},
   "outputs": [],
   "source": [
    "df.head(5)"
   ]
  },
  {
   "cell_type": "markdown",
   "id": "f4ec9f4b",
   "metadata": {},
   "source": [
    "### Data Preparation"
   ]
  },
  {
   "cell_type": "code",
   "execution_count": null,
   "id": "a8504da9",
   "metadata": {},
   "outputs": [],
   "source": [
    "# Handle missing values\n",
    "for column in df.columns:\n",
    "    if df[column].dtype == np.number:\n",
    "        df[column] = df[column].fillna(df[column].median())\n",
    "    else:\n",
    "        df[column] = df[column].fillna(df[column].mode()[0])\n",
    "\n",
    "# Label encoding for categorical variables\n",
    "le = LabelEncoder()\n",
    "categorical_columns = ['Kategori', 'Sumber Dana', 'Satker', 'Nama KLPD', \n",
    "                       'Nama Pemenang', 'LPSE', ]\n",
    "\n",
    "label_encoders = {}\n",
    "for column in categorical_columns:\n",
    "    label_encoders[column] = LabelEncoder()\n",
    "    df[column] = label_encoders[column].fit_transform(df[column])\n",
    "    \n",
    "# Split the dataset\n",
    "X = df.drop('Nama Pemenang', axis=1)\n",
    "y = df['Nama Pemenang']\n",
    "X_train, X_test, y_train, y_test = train_test_split(X, y, test_size=0.2, random_state=42)\n",
    "\n",
    "# Normalize numeric columns\n",
    "scaler = MinMaxScaler()\n",
    "numeric_columns = ['HPS', 'PAGU', 'Kontrak']\n",
    "X_train[numeric_columns] = scaler.fit_transform(X_train[numeric_columns])\n",
    "X_test[numeric_columns] = scaler.transform(X_test[numeric_columns])"
   ]
  },
  {
   "cell_type": "code",
   "execution_count": null,
   "id": "0eb3a802",
   "metadata": {},
   "outputs": [],
   "source": [
    "print(X_train.dtypes)"
   ]
  },
  {
   "cell_type": "markdown",
   "id": "7f7e01c2",
   "metadata": {},
   "source": [
    "### Model Training"
   ]
  },
  {
   "cell_type": "code",
   "execution_count": null,
   "id": "c9ebddda",
   "metadata": {},
   "outputs": [],
   "source": [
    "# Define the model architecture\n",
    "model = tf.keras.models.Sequential([\n",
    "    tf.keras.layers.Dense(128, activation='relu', input_shape=[X_train.shape[1]]),\n",
    "    tf.keras.layers.Dense(256, activation='relu'),\n",
    "    tf.keras.layers.Dense(128, activation='relu'),\n",
    "    tf.keras.layers.Dense(len(df['Nama Pemenang'].unique()), activation='softmax')  # number of classes (i.e., unique vendors)\n",
    "])\n",
    "\n",
    "# Compile the model with a different optimizer and learning rate\n",
    "model.compile(optimizer=tf.keras.optimizers.Adam(learning_rate=0.001), loss='sparse_categorical_crossentropy', metrics=['accuracy'])\n",
    "\n",
    "# Early stopping and model checkpointing\n",
    "early_stopping = EarlyStopping(monitor='val_loss', patience=10)\n",
    "model_checkpoint = ModelCheckpoint('best_model.h5', monitor='val_loss', save_best_only=True)\n",
    "\n",
    "# Train the model\n",
    "history = model.fit(X_train, y_train, \n",
    "                    epochs=15, \n",
    "                    validation_data=(X_test, y_test), \n",
    "                    callbacks=[early_stopping, model_checkpoint])\n"
   ]
  },
  {
   "cell_type": "code",
   "execution_count": null,
   "id": "8d3e3ba8",
   "metadata": {},
   "outputs": [],
   "source": []
  }
 ],
 "metadata": {
  "kernelspec": {
   "display_name": "tf220",
   "language": "python",
   "name": "tf220"
  },
  "language_info": {
   "codemirror_mode": {
    "name": "ipython",
    "version": 3
   },
   "file_extension": ".py",
   "mimetype": "text/x-python",
   "name": "python",
   "nbconvert_exporter": "python",
   "pygments_lexer": "ipython3",
   "version": "3.7.1"
  }
 },
 "nbformat": 4,
 "nbformat_minor": 5
}
