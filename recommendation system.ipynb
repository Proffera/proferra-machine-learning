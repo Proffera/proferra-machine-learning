{
 "cells": [
  {
   "cell_type": "code",
   "execution_count": 1,
   "id": "8b552f1e",
   "metadata": {},
   "outputs": [],
   "source": [
    "import pandas as pd\n",
    "import tensorflow as tf\n",
    "from sklearn.model_selection import train_test_split\n",
    "from tensorflow.keras.layers import Input, Dense\n",
    "from tensorflow.keras.models import Model\n",
    "from tensorflow.keras.optimizers import Adam"
   ]
  },
  {
   "cell_type": "code",
   "execution_count": 2,
   "id": "fb6d64a5",
   "metadata": {},
   "outputs": [],
   "source": [
    "tender_data = pd.read_excel('./data/history1.xlsx')"
   ]
  },
  {
   "cell_type": "code",
   "execution_count": 3,
   "id": "851a0858",
   "metadata": {},
   "outputs": [],
   "source": [
    "# Menggabungkan atribut 'Kategori', 'Sumber Dana', dan 'Satker' menjadi satu kolom teks\n",
    "tender_data['Content'] = tender_data['Kategori'] + ' ' + tender_data['Sumber Dana'] + ' ' + tender_data['Satker']\n",
    "\n",
    "# Membuat mapping antara nama paket tender dengan indeks\n",
    "tender_indices = dict(zip(tender_data['Nama Paket'], tender_data.index))\n",
    "\n",
    "# Menambahkan kolom indeks pada dataset\n",
    "tender_data['Index'] = tender_data['Nama Paket'].map(tender_indices)\n",
    "\n",
    "# Membagi data menjadi training dan validation sets\n",
    "train_data, val_data = train_test_split(tender_data[['Index', 'Content']], test_size=0.2, random_state=42)"
   ]
  },
  {
   "cell_type": "code",
   "execution_count": 4,
   "id": "330c7753",
   "metadata": {},
   "outputs": [],
   "source": [
    "# Jumlah unik paket tender\n",
    "num_tenders = len(tender_indices)\n",
    "\n",
    "# Membangun model rekomendasi menggunakan TensorFlow\n",
    "input_layer = Input(shape=(num_tenders,))\n",
    "hidden_layer = Dense(128, activation='relu')(input_layer)\n",
    "output_layer = Dense(num_tenders, activation='softmax')(hidden_layer)\n",
    "\n",
    "model = Model(inputs=input_layer, outputs=output_layer)"
   ]
  },
  {
   "cell_type": "code",
   "execution_count": 5,
   "id": "39bad6d0",
   "metadata": {},
   "outputs": [],
   "source": [
    "# Menentukan optimizer dan compile model\n",
    "optimizer = Adam(learning_rate=0.001)\n",
    "model.compile(optimizer=optimizer, loss='categorical_crossentropy', metrics=['accuracy'])\n",
    "\n"
   ]
  },
  {
   "cell_type": "code",
   "execution_count": 6,
   "id": "513e9634",
   "metadata": {},
   "outputs": [],
   "source": [
    "# Mengubah data training dan validation menjadi one-hot encoded vectors\n",
    "def convert_to_one_hot(data):\n",
    "    one_hot_data = tf.one_hot(data['Index'], depth=num_tenders)\n",
    "    return one_hot_data\n",
    "\n",
    "train_X = convert_to_one_hot(train_data)\n",
    "val_X = convert_to_one_hot(val_data)\n",
    "\n",
    "# Melabeli data target\n",
    "train_y = train_X\n",
    "val_y = val_X"
   ]
  },
  {
   "cell_type": "code",
   "execution_count": 7,
   "id": "56ff14cb",
   "metadata": {},
   "outputs": [
    {
     "name": "stdout",
     "output_type": "stream",
     "text": [
      "Epoch 1/15\n",
      "1488/1488 [==============================] - 266s 178ms/step - loss: 10.2867 - accuracy: 0.0021 - val_loss: 10.4958 - val_accuracy: 0.0066\n",
      "Epoch 2/15\n",
      "1488/1488 [==============================] - 255s 171ms/step - loss: 9.9162 - accuracy: 0.0120 - val_loss: 11.0784 - val_accuracy: 0.0161\n",
      "Epoch 3/15\n",
      "1488/1488 [==============================] - 251s 169ms/step - loss: 9.5213 - accuracy: 0.0250 - val_loss: 12.1227 - val_accuracy: 0.0267\n",
      "Epoch 4/15\n",
      "1488/1488 [==============================] - 252s 169ms/step - loss: 8.9999 - accuracy: 0.0414 - val_loss: 13.2521 - val_accuracy: 0.0370\n",
      "Epoch 5/15\n",
      "1488/1488 [==============================] - 250s 168ms/step - loss: 8.0994 - accuracy: 0.0812 - val_loss: 15.5761 - val_accuracy: 0.0570\n",
      "Epoch 6/15\n",
      "1488/1488 [==============================] - 250s 168ms/step - loss: 6.6182 - accuracy: 0.2927 - val_loss: 16.6984 - val_accuracy: 0.0819\n",
      "Epoch 7/15\n",
      "1488/1488 [==============================] - 250s 168ms/step - loss: 5.2679 - accuracy: 0.5345 - val_loss: 16.5568 - val_accuracy: 0.0849\n",
      "Epoch 8/15\n",
      "1488/1488 [==============================] - 246s 165ms/step - loss: 4.1500 - accuracy: 0.6107 - val_loss: 16.3248 - val_accuracy: 0.0838\n",
      "Epoch 9/15\n",
      "1488/1488 [==============================] - 248s 167ms/step - loss: 3.2367 - accuracy: 0.6339 - val_loss: 16.5558 - val_accuracy: 0.0834\n",
      "Epoch 10/15\n",
      "1488/1488 [==============================] - 252s 169ms/step - loss: 2.4553 - accuracy: 0.6587 - val_loss: 16.6086 - val_accuracy: 0.0830\n",
      "Epoch 11/15\n",
      "1488/1488 [==============================] - 251s 168ms/step - loss: 1.8448 - accuracy: 0.6870 - val_loss: 16.6389 - val_accuracy: 0.0829\n",
      "Epoch 12/15\n",
      "1488/1488 [==============================] - 244s 164ms/step - loss: 1.4069 - accuracy: 0.7173 - val_loss: 16.3553 - val_accuracy: 0.0846\n",
      "Epoch 13/15\n",
      "1488/1488 [==============================] - 250s 168ms/step - loss: 1.1030 - accuracy: 0.7502 - val_loss: 16.8429 - val_accuracy: 0.0822\n",
      "Epoch 14/15\n",
      "1488/1488 [==============================] - 248s 167ms/step - loss: 0.9824 - accuracy: 0.7621 - val_loss: 17.3453 - val_accuracy: 0.0756\n",
      "Epoch 15/15\n",
      "1488/1488 [==============================] - 410s 276ms/step - loss: 1.0111 - accuracy: 0.7476 - val_loss: 18.3584 - val_accuracy: 0.0712\n"
     ]
    }
   ],
   "source": [
    "# Melatih model\n",
    "history = model.fit(train_X, train_y, validation_data=(val_X, val_y), epochs=15, batch_size=32)"
   ]
  },
  {
   "cell_type": "code",
   "execution_count": 19,
   "id": "2c0710b6",
   "metadata": {},
   "outputs": [],
   "source": [
    "# Fungsi untuk merekomendasikan paket tender berdasarkan paket yang telah diminati sebelumnya\n",
    "def recommend_tenders(tender_title, model, tender_indices, top_n=10):\n",
    "    # Mendapatkan indeks paket tender yang sesuai dengan judul yang diberikan\n",
    "    tender_index = tender_indices[tender_title]\n",
    "\n",
    "    # Mengubah input menjadi one-hot encoded vector\n",
    "    input_data = tf.one_hot([tender_index], depth=num_tenders)\n",
    "\n",
    "    # Menggunakan model untuk membuat prediksi\n",
    "    predictions = model.predict(input_data)\n",
    "\n",
    "    # Mendapatkan indeks N paket tender teratas yang direkomendasikan\n",
    "    top_recommended_indices = tf.argsort(predictions, direction='DESCENDING')[0][:top_n]\n",
    "\n",
    "    # Mengambil nama paket tender yang direkomendasikan\n",
    "    recommended_tenders = tender_data['Nama Paket'].iloc[top_recommended_indices]\n",
    "\n",
    "    return recommended_tenders"
   ]
  },
  {
   "cell_type": "code",
   "execution_count": 21,
   "id": "0c9ba751",
   "metadata": {},
   "outputs": [
    {
     "name": "stdout",
     "output_type": "stream",
     "text": [
      "1/1 [==============================] - 0s 34ms/step\n",
      "Hasil Rekomendasi untuk Paket Tender: Lomba Karya Jurnalistik\n",
      "52999    Pengadaan Kendaraan Roda-4 Bagian Kepegawaian ...\n",
      "54294    Pengadaan Linen Jas Operasi Unit Pelayanan Lau...\n",
      "53512    Pengadaan Konsultan Perencanaan Pembangunan Ru...\n",
      "52958    Pengadaan Kendaraan PKP-PK Type IV termasuk Pe...\n",
      "49757    Pengadaan Jasa Konstruksi Pembangunan Gedung P...\n",
      "48567                      Pengadaan Hepafilter Ruang CSSD\n",
      "52656     Pengadaan Kebutuhan Prisma TPE dll untuk TA 2018\n",
      "51360          Pengadaan Jasa Layanan Foto Copy Tahun 2016\n",
      "Name: Nama Paket, dtype: object\n"
     ]
    }
   ],
   "source": [
    "# Contoh penggunaan: merekomendasikan 5 paket tender teratas berdasarkan paket yang telah diminati sebelumnya\n",
    "tender_title = 'Lomba Karya Jurnalistik'\n",
    "recommended_tenders = recommend_tenders(tender_title, model, tender_indices, top_n=50)\n",
    "filtered_tenders = recommended_tenders[tender_data['Status'] == 1]\n",
    "\n",
    "# Menampilkan hasil rekomendasi\n",
    "print(\"Hasil Rekomendasi untuk Paket Tender:\", tender_title)\n",
    "print(filtered_tenders)"
   ]
  },
  {
   "cell_type": "code",
   "execution_count": null,
   "id": "6a5e193b",
   "metadata": {},
   "outputs": [],
   "source": [
    "# Display only the top 5 filtered tenders\n",
    "top_5_filtered_tenders = filtered_tenders.head(5)\n",
    "print(top_5_filtered_tenders)"
   ]
  }
 ],
 "metadata": {
  "kernelspec": {
   "display_name": "Python 3 (ipykernel)",
   "language": "python",
   "name": "python3"
  },
  "language_info": {
   "codemirror_mode": {
    "name": "ipython",
    "version": 3
   },
   "file_extension": ".py",
   "mimetype": "text/x-python",
   "name": "python",
   "nbconvert_exporter": "python",
   "pygments_lexer": "ipython3",
   "version": "3.10.9"
  }
 },
 "nbformat": 4,
 "nbformat_minor": 5
}
